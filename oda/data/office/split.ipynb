{
 "nbformat": 4,
 "nbformat_minor": 2,
 "metadata": {
  "language_info": {
   "name": "python",
   "codemirror_mode": {
    "name": "ipython",
    "version": 3
   },
   "version": "3.6.9-final"
  },
  "orig_nbformat": 2,
  "file_extension": ".py",
  "mimetype": "text/x-python",
  "name": "python",
  "npconvert_exporter": "python",
  "pygments_lexer": "ipython3",
  "version": 3,
  "kernelspec": {
   "name": "python36964bitbasecondaccba415c44a84262ad1e0924f248cc94",
   "display_name": "Python 3.6.9 64-bit ('base': conda)"
  }
 },
 "cells": [
  {
   "cell_type": "code",
   "execution_count": 1,
   "metadata": {},
   "outputs": [],
   "source": [
    "import random\n",
    "import numpy as np"
   ]
  },
  {
   "cell_type": "code",
   "execution_count": 2,
   "metadata": {},
   "outputs": [],
   "source": [
    "with open('amazon_list.txt','r') as f:\n",
    "    amazon=f.readlines()\n",
    "with open('dslr_list.txt','r') as f:\n",
    "    dslr=f.readlines()\n",
    "with open('webcam_list.txt','r') as f:\n",
    "    webcam=f.readlines()\n",
    ""
   ]
  },
  {
   "cell_type": "code",
   "execution_count": 7,
   "metadata": {},
   "outputs": [],
   "source": [
    "a_tr=random.sample(amazon,int(len(amazon)*0.9))\n",
    "a_ts=list(set(amazon)-set(a_tr))\n",
    "with open('a_tr.txt','a+') as f:\n",
    "    for i in a_tr:\n",
    "        f.write(i)\n",
    "with open('a_ts.txt','a+') as f:\n",
    "    for i in a_ts:\n",
    "        f.write(i)"
   ]
  },
  {
   "cell_type": "code",
   "execution_count": 15,
   "metadata": {},
   "outputs": [],
   "source": [
    "d_tr=random.sample(dslr,int(len(dslr)*0.9))\n",
    "d_ts=list(set(dslr)-set(d_tr))\n",
    "with open('d_tr.txt','a+') as f:\n",
    "    for i in d_tr:\n",
    "        f.write(i)\n",
    "with open('d_ts.txt','a+') as f:\n",
    "    for i in d_ts:\n",
    "        f.write(i)"
   ]
  },
  {
   "cell_type": "code",
   "execution_count": 16,
   "metadata": {},
   "outputs": [],
   "source": [
    "w_tr=random.sample(webcam,int(len(webcam)*0.9))\n",
    "w_ts=list(set(webcam)-set(w_tr))\n",
    "with open('w_tr.txt','a+') as f:\n",
    "    for i in w_tr:\n",
    "        f.write(i)\n",
    "with open('w_ts.txt','a+') as f:\n",
    "    for i in w_ts:\n",
    "        f.write(i)"
   ]
  },
  {
   "cell_type": "code",
   "execution_count": null,
   "metadata": {},
   "outputs": [],
   "source": []
  }
 ]
}